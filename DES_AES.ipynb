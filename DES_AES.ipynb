{
 "cells": [
  {
   "cell_type": "code",
   "execution_count": 13,
   "id": "8229526b",
   "metadata": {},
   "outputs": [],
   "source": [
    "from Crypto.Cipher import DES\n",
    "from Crypto.Cipher import AES\n",
    "import os"
   ]
  },
  {
   "cell_type": "code",
   "execution_count": 14,
   "id": "60c6cede",
   "metadata": {},
   "outputs": [],
   "source": [
    "def pad(text):\n",
    "    n = 8 - len(text) % 8\n",
    "    if n == 8:\n",
    "        return text\n",
    "    return text + (b' ' * n)"
   ]
  },
  {
   "cell_type": "code",
   "execution_count": 15,
   "id": "63d4d246",
   "metadata": {},
   "outputs": [
    {
     "name": "stdout",
     "output_type": "stream",
     "text": [
      "['0x7', '0xbf', '0x50', '0xf9', '0xc4', '0xcc', '0x9d', '0x32', '0x6a', '0xfa', '0xae', '0x42', '0xd2', '0x16', '0x21', '0x5b']\n",
      "b'Hello world !!! '\n"
     ]
    }
   ],
   "source": [
    "key = b'password'\n",
    "des = DES.new(key, DES.MODE_ECB)\n",
    "plaintext = pad(b'Hello world !!!')\n",
    "ciphertext = des.encrypt(plaintext)\n",
    "print([hex(x) for x in ciphertext])\n",
    "print(des.decrypt(ciphertext))"
   ]
  },
  {
   "cell_type": "code",
   "execution_count": 16,
   "id": "eec0e28d",
   "metadata": {},
   "outputs": [],
   "source": [
    "def pad_aes(text):\n",
    "    n = 16 - len(text) % 16\n",
    "    if n == 16:\n",
    "        return text\n",
    "    return text + (b' ' * n)"
   ]
  },
  {
   "cell_type": "code",
   "execution_count": 17,
   "id": "7fb1a88c",
   "metadata": {},
   "outputs": [
    {
     "name": "stdout",
     "output_type": "stream",
     "text": [
      "['0xd4', '0x60', '0x51', '0x6e', '0xe8', '0x27', '0xc8', '0xdf', '0xa', '0xbb', '0x42', '0xb1', '0x38', '0x14', '0x7', '0xd3', '0x20', '0xaa', '0x30', '0x8a', '0x3c', '0x27', '0x46', '0x37', '0xd1', '0xf8', '0x99', '0x91', '0xdc', '0xb3', '0xf6', '0xd6']\n",
      "b'Hello world hellow world !!!    '\n"
     ]
    }
   ],
   "source": [
    "key = b'passwordpassword'\n",
    "aes = AES.new(key, AES.MODE_ECB)\n",
    "plaintext = pad_aes(b'Hello world hellow world !!!')\n",
    "ciphertext = aes.encrypt(plaintext)\n",
    "print([hex(x) for x in ciphertext])\n",
    "print(aes.decrypt(ciphertext))"
   ]
  },
  {
   "cell_type": "code",
   "execution_count": 18,
   "id": "b5a50a03",
   "metadata": {},
   "outputs": [],
   "source": [
    "def xor_bytes(s1, s2):\n",
    "    if len(s1) != len(s2):\n",
    "        exit(\"xor_bytes error: len(s1) != len(s2)!\")\n",
    "    return bytes([a ^ b for (a, b) in zip(s1, s2)])"
   ]
  },
  {
   "cell_type": "code",
   "execution_count": 19,
   "id": "0ca33af2",
   "metadata": {},
   "outputs": [],
   "source": [
    "def generate_key_with_parity():\n",
    "    \n",
    "    key_bytes = bytearray(os.urandom(8))\n",
    "    parity_check_byte = bytes([0xFF])\n",
    "    \n",
    "    for i in range(8):\n",
    "        byte = key_bytes[i]\n",
    "        parity = xor_bytes(bytes([byte]), parity_check_byte)[0]\n",
    "        \n",
    "        if parity != 0:\n",
    "            key_bytes[i] ^= 1\n",
    "\n",
    "            \n",
    "    return bytes(key_bytes)\n"
   ]
  },
  {
   "cell_type": "code",
   "execution_count": 20,
   "id": "320d98c0",
   "metadata": {},
   "outputs": [
    {
     "name": "stdout",
     "output_type": "stream",
     "text": [
      "['0xf5', '0xb1', '0xa3', '0x3', '0x84', '0xc4', '0x71', '0x1e']\n"
     ]
    }
   ],
   "source": [
    "key_with_parity = generate_key_with_parity()\n",
    "print([hex(x) for x in key_with_parity])"
   ]
  },
  {
   "cell_type": "code",
   "execution_count": 46,
   "id": "c8641c89",
   "metadata": {},
   "outputs": [
    {
     "data": {
      "text/plain": [
       "'def gen_key():\\n    key_tab = []\\n    for _ in range(8):\\n        b = randrange(0,256)\\n        b ^= (b.bit_count() % 2)\\n        key_tab.append(b)\\n    return bytes(key_tab)'"
      ]
     },
     "execution_count": 46,
     "metadata": {},
     "output_type": "execute_result"
    }
   ],
   "source": [
    "from random import randint, randrange, randbytes\n",
    "\n",
    "def gen_key():\n",
    "    key_tab = []\n",
    "    for _ in range(8):\n",
    "        b = randrange(0, 256)\n",
    "        if (b.bit_count() % 2 == 1):\n",
    "            b ^= 1\n",
    "        key_tab.append(b)\n",
    "    \n",
    "    return bytes(key_tab)\n",
    "\n",
    "'''def gen_key():\n",
    "    key_tab = []\n",
    "    for _ in range(8):\n",
    "        b = randrange(0,256)\n",
    "        b ^= (b.bit_count() % 2)\n",
    "        key_tab.append(b)\n",
    "    return bytes(key_tab)'''\n"
   ]
  },
  {
   "cell_type": "code",
   "execution_count": 45,
   "id": "5b16c318",
   "metadata": {},
   "outputs": [
    {
     "ename": "AttributeError",
     "evalue": "'int' object has no attribute 'bit_count'",
     "output_type": "error",
     "traceback": [
      "\u001b[0;31m---------------------------------------------------------------------------\u001b[0m",
      "\u001b[0;31mAttributeError\u001b[0m                            Traceback (most recent call last)",
      "Input \u001b[0;32mIn [45]\u001b[0m, in \u001b[0;36m<cell line: 13>\u001b[0;34m()\u001b[0m\n\u001b[1;32m     10\u001b[0m         key_tab\u001b[38;5;241m.\u001b[39mappend(b)\n\u001b[1;32m     11\u001b[0m     \u001b[38;5;28;01mreturn\u001b[39;00m \u001b[38;5;28mbytes\u001b[39m(key_tab)\n\u001b[0;32m---> 13\u001b[0m \u001b[38;5;28mprint\u001b[39m(\u001b[43mgen_key1\u001b[49m\u001b[43m(\u001b[49m\u001b[43m)\u001b[49m)\n\u001b[1;32m     15\u001b[0m \u001b[38;5;28;01mdef\u001b[39;00m \u001b[38;5;21mgen_key2\u001b[39m():\n\u001b[1;32m     16\u001b[0m     key_tab \u001b[38;5;241m=\u001b[39m []\n",
      "Input \u001b[0;32mIn [45]\u001b[0m, in \u001b[0;36mgen_key1\u001b[0;34m()\u001b[0m\n\u001b[1;32m      6\u001b[0m \u001b[38;5;28;01mfor\u001b[39;00m _ \u001b[38;5;129;01min\u001b[39;00m \u001b[38;5;28mrange\u001b[39m(\u001b[38;5;241m8\u001b[39m):\n\u001b[1;32m      7\u001b[0m     b \u001b[38;5;241m=\u001b[39m randrange(\u001b[38;5;241m0\u001b[39m, \u001b[38;5;241m256\u001b[39m)\n\u001b[0;32m----> 8\u001b[0m     \u001b[38;5;28;01mif\u001b[39;00m (\u001b[43mb\u001b[49m\u001b[38;5;241;43m.\u001b[39;49m\u001b[43mbit_count\u001b[49m() \u001b[38;5;241m%\u001b[39m \u001b[38;5;241m2\u001b[39m \u001b[38;5;241m==\u001b[39m \u001b[38;5;241m1\u001b[39m):\n\u001b[1;32m      9\u001b[0m         b \u001b[38;5;241m^\u001b[39m\u001b[38;5;241m=\u001b[39m \u001b[38;5;241m1\u001b[39m\n\u001b[1;32m     10\u001b[0m     key_tab\u001b[38;5;241m.\u001b[39mappend(b)\n",
      "\u001b[0;31mAttributeError\u001b[0m: 'int' object has no attribute 'bit_count'"
     ]
    }
   ],
   "source": [
    "# correction prof\n",
    "from random import randint, randrange, randbytes\n",
    "\n",
    "def gen_key1():\n",
    "    key_tab = []\n",
    "    for _ in range(8):\n",
    "        b = randrange(0, 256)\n",
    "        if (b.bit_count() % 2 == 1):\n",
    "            b ^= 1\n",
    "        key_tab.append(b)\n",
    "    return bytes(key_tab)\n",
    "\n",
    "print(gen_key1())\n",
    "\n",
    "def gen_key2():\n",
    "    key_tab = []\n",
    "    for _ in range(8):\n",
    "        b = randrange(0,256)\n",
    "        b ^= (b.bit_count() % 2)\n",
    "        key_tab.append(b)\n",
    "    return bytes(key_tab)\n",
    "\n",
    "print(gen_key1())"
   ]
  },
  {
   "cell_type": "code",
   "execution_count": 24,
   "id": "13fdc8f7",
   "metadata": {},
   "outputs": [
    {
     "name": "stdout",
     "output_type": "stream",
     "text": [
      "b'Hello world !!! '\n",
      "ciphertext1 =  ['0x30', '0xf4', '0x34', '0x33', '0x20', '0x57', '0xce', '0x7f', '0xc5', '0x19', '0xc1', '0xd', '0x53', '0x3', '0x28', '0x24']\n",
      "ciphertext2 =  ['0x30', '0xf4', '0x34', '0x33', '0x20', '0x57', '0xce', '0x7f', '0xc5', '0x19', '0xc1', '0xd', '0x53', '0x3', '0x28', '0x24']\n",
      "ciphertext1 =  ['30', 'f4', '34', '33', '20', '57', 'ce', '7f', 'c5', '19', 'c1', '0d', '53', '03', '28', '24']\n",
      "ciphertext2 =  ['30', 'f4', '34', '33', '20', '57', 'ce', '7f', 'c5', '19', 'c1', '0d', '53', '03', '28', '24']\n",
      "decoded1 =  b'Hello world !!! '\n",
      "decoded2 =  b'Hello world !!! '\n",
      "decoded1with2 =  b'Hello world !!! '\n",
      "decoded2with1 =  b'Hello world !!! '\n"
     ]
    }
   ],
   "source": [
    "def xor_bytes(s1, s2):\n",
    "    if len(s1) != len(s2):\n",
    "        exit(\"xor_bytes error: len(s1) != len(s2)!\")\n",
    "    return bytes([a ^ b for (a, b) in zip(s1, s2)])\n",
    "\n",
    "k1 = generate_key_with_parity()\n",
    "k2 = xor_bytes(k1, b'\\x01\\x01\\x01\\x01\\x01\\x01\\x01\\x01')\n",
    "\n",
    "des1 = DES.new(k1, DES.MODE_ECB)\n",
    "des2 = DES.new(k2, DES.MODE_ECB)\n",
    "\n",
    "plaintext = pad(b'Hello world !!!')\n",
    "\n",
    "ciphertext1 = des1.encrypt(plaintext)\n",
    "ciphertext2 = des2.encrypt(plaintext)\n",
    "\n",
    "print(plaintext)\n",
    "print(\"ciphertext1 = \", [hex(x) for x in ciphertext1]) \n",
    "print(\"ciphertext2 = \", [hex(x) for x in ciphertext2]) \n",
    "print(\"ciphertext1 = \", [hex(x)[2:].zfill(2) for x in ciphertext1]) \n",
    "print(\"ciphertext2 = \", [hex(x)[2:].zfill(2) for x in ciphertext2]) \n",
    "print(\"decoded1 = \", des1.decrypt(ciphertext1)) \n",
    "print(\"decoded2 = \", des2.decrypt(ciphertext2)) \n",
    "print(\"decoded1with2 = \", des2.decrypt(ciphertext1)) \n",
    "print(\"decoded2with1 = \", des1.decrypt(ciphertext2))"
   ]
  },
  {
   "cell_type": "code",
   "execution_count": 25,
   "id": "9e3e7886",
   "metadata": {},
   "outputs": [
    {
     "name": "stdout",
     "output_type": "stream",
     "text": [
      "message =  ['01001000', '01100101', '01101100', '01101100', '01101111', '00100000', '01110111', '01101111', '01110010', '01101100', '01100100', '00100000', '00100001', '00100001', '00100001', '00100000']\n",
      "complem =  ['10110111', '10011010', '10010011', '10010011', '10010000', '11011111', '10001000', '10010000', '10001101', '10010011', '10011011', '11011111', '11011110', '11011110', '11011110', '11011111']\n"
     ]
    }
   ],
   "source": [
    "def complementary(x):\n",
    "    n = len(x)\n",
    "    return xor_bytes(x, b'\\xFF'*n)\n",
    "\n",
    "message = b'Hello world !!! '\n",
    "\n",
    "print(\"message = \", [bin(x)[2:].zfill(8) for x in message])\n",
    "print(\"complem = \", [bin(x)[2:].zfill(8) for x in complementary(message)])"
   ]
  },
  {
   "cell_type": "code",
   "execution_count": 26,
   "id": "df3af16c",
   "metadata": {},
   "outputs": [],
   "source": [
    "k1 = generate_key_with_parity()\n",
    "k2 = complementary(k1)\n",
    "des1 = DES.new(k1, DES.MODE_ECB)\n",
    "des2 = DES.new(k2, DES.MODE_ECB)\n",
    "\n",
    "plaintext = pad(b'Hello world !!!')\n",
    "plaintext2 = complementary(plaintext)\n",
    "ciphertext1 = des1.encrypt(plaintext)\n",
    "ciphertext2 = des2.encrypt(plaintext2)\n"
   ]
  },
  {
   "cell_type": "code",
   "execution_count": 27,
   "id": "aebfba54",
   "metadata": {},
   "outputs": [
    {
     "name": "stdout",
     "output_type": "stream",
     "text": [
      "b'Hello world !!! '\n",
      "b'\\xb7\\x9a\\x93\\x93\\x90\\xdf\\x88\\x90\\x8d\\x93\\x9b\\xdf\\xde\\xde\\xde\\xdf'\n",
      "ciphertext1 =  ['0xc5', '0x64', '0x17', '0x97', '0xd3', '0x49', '0x91', '0xfe', '0x7d', '0x2f', '0x52', '0x4', '0x6f', '0x10', '0xd5', '0xc5']\n",
      "ciphertext2 =  ['0x3a', '0x9b', '0xe8', '0x68', '0x2c', '0xb6', '0x6e', '0x1', '0x82', '0xd0', '0xad', '0xfb', '0x90', '0xef', '0x2a', '0x3a']\n",
      "ciphertext1 =  ['c5', '64', '17', '97', 'd3', '49', '91', 'fe', '7d', '2f', '52', '04', '6f', '10', 'd5', 'c5']\n",
      "ciphertext2 =  ['3a', '9b', 'e8', '68', '2c', 'b6', '6e', '01', '82', 'd0', 'ad', 'fb', '90', 'ef', '2a', '3a']\n",
      "decoded1 =  b'Hello world !!! '\n",
      "decoded2 =  b'\\xb7\\x9a\\x93\\x93\\x90\\xdf\\x88\\x90\\x8d\\x93\\x9b\\xdf\\xde\\xde\\xde\\xdf'\n",
      "decoded1with2 =  b\"\\xdc\\x97\\xc6'\\x95\\xfcM\\x87\\x83\\xa4\\xf6\\xca<5\\xe2\\x86\"\n",
      "decoded2with1 =  b'#h9\\xd8j\\x03\\xb2x|[\\t5\\xc3\\xca\\x1dy'\n"
     ]
    }
   ],
   "source": [
    "print(plaintext)\n",
    "print(plaintext2)\n",
    "print(\"ciphertext1 = \", [hex(x) for x in ciphertext1]) \n",
    "print(\"ciphertext2 = \", [hex(x) for x in ciphertext2]) \n",
    "print(\"ciphertext1 = \", [hex(x)[2:].zfill(2) for x in ciphertext1]) \n",
    "print(\"ciphertext2 = \", [hex(x)[2:].zfill(2) for x in ciphertext2]) \n",
    "print(\"decoded1 = \", des1.decrypt(ciphertext1)) \n",
    "print(\"decoded2 = \", des2.decrypt(ciphertext2)) \n",
    "print(\"decoded1with2 = \", des2.decrypt(ciphertext1)) \n",
    "print(\"decoded2with1 = \", des1.decrypt(ciphertext2))"
   ]
  },
  {
   "cell_type": "code",
   "execution_count": 28,
   "id": "8e230b2f",
   "metadata": {},
   "outputs": [],
   "source": [
    "c1 = complementary(plaintext2)"
   ]
  },
  {
   "cell_type": "code",
   "execution_count": 29,
   "id": "4e587fe8",
   "metadata": {},
   "outputs": [
    {
     "name": "stdout",
     "output_type": "stream",
     "text": [
      "ciphertext1 =  ['c5', '64', '17', '97', 'd3', '49', '91', 'fe', '7d', '2f', '52', '04', '6f', '10', 'd5', 'c5']\n",
      "ciphertext2 =  ['3a', '9b', 'e8', '68', '2c', 'b6', '6e', '01', '82', 'd0', 'ad', 'fb', '90', 'ef', '2a', '3a']\n"
     ]
    }
   ],
   "source": [
    "print(\"ciphertext1 = \", [hex(x)[2:].zfill(2) for x in ciphertext1])\n",
    "print(\"ciphertext2 = \", [hex(x)[2:].zfill(2) for x in ciphertext2]) "
   ]
  },
  {
   "cell_type": "code",
   "execution_count": 30,
   "id": "a747e395",
   "metadata": {},
   "outputs": [
    {
     "name": "stdout",
     "output_type": "stream",
     "text": [
      "ciphertext1 (en binaire) = ['11000101', '01100100', '00010111', '10010111', '11010011', '01001001', '10010001', '11111110', '01111101', '00101111', '01010010', '00000100', '01101111', '00010000', '11010101', '11000101']\n",
      "ciphertext2 (en binaire) = ['00111010', '10011011', '11101000', '01101000', '00101100', '10110110', '01101110', '00000001', '10000010', '11010000', '10101101', '11111011', '10010000', '11101111', '00101010', '00111010']\n"
     ]
    }
   ],
   "source": [
    "def print_binary_list(label, lst):\n",
    "    print(label, \"=\", [bin(x)[2:].zfill(8) for x in lst])\n",
    "\n",
    "# Affichage de ciphertext1 en binaire\n",
    "print_binary_list(\"ciphertext1 (en binaire)\", ciphertext1)\n",
    "\n",
    "# Affichage de ciphertext2 en binaire\n",
    "print_binary_list(\"ciphertext2 (en binaire)\", ciphertext2)"
   ]
  },
  {
   "cell_type": "code",
   "execution_count": 39,
   "id": "eac88319",
   "metadata": {},
   "outputs": [
    {
     "name": "stdout",
     "output_type": "stream",
     "text": [
      "Message 1: ['0b11001111', '0b10100101', '0b101111', '0b1001', '0b1010000', '0b1001111', '0b11111011', '0b1001001']\n",
      "Message 2: ['0b11001111', '0b10100101', '0b1101111', '0b1001', '0b1010000', '0b1001111', '0b11111011', '0b1001001']\n"
     ]
    }
   ],
   "source": [
    "import os\n",
    "import random\n",
    "\n",
    "def generate_message(length):\n",
    "    \"\"\"Génère un message aléatoire de longueur spécifiée.\"\"\"\n",
    "    return bytearray(os.urandom(length))\n",
    "\n",
    "def flip_bit(byte_array, bit_position):\n",
    "    \"\"\"Inverse un bit spécifique dans un tableau d'octets.\"\"\"\n",
    "    byte_index = bit_position // 8\n",
    "    bit_index = bit_position % 8\n",
    "    mask = 1 << bit_index\n",
    "    byte_array[byte_index] ^= mask\n",
    "    return byte_array\n",
    "\n",
    "def generate_two_messages_with_one_bit_difference(length):\n",
    "    \"\"\"Génère deux messages qui diffèrent d'un seul bit.\"\"\"\n",
    "    message1 = generate_message(length)\n",
    "    message2 = bytearray(message1)  # Créer une copie du message initial\n",
    "\n",
    "    bit_position = random.randint(0, length * 8 - 1)  # Choisir un bit aléatoire à inverser\n",
    "\n",
    "    message2 = flip_bit(message2, bit_position)  # Inverser le bit dans le deuxième message\n",
    "\n",
    "    return message1, message2\n",
    "\n",
    "# Exemple d'utilisation\n",
    "length = 8  # Longueur en octets\n",
    "message1, message2 = generate_two_messages_with_one_bit_difference(length)\n",
    "\n",
    "print(\"Message 1:\", [bin(x) for x in message1])\n",
    "print(\"Message 2:\", [bin(x) for x in message2])\n"
   ]
  },
  {
   "cell_type": "code",
   "execution_count": 40,
   "id": "f8c38ebc",
   "metadata": {},
   "outputs": [],
   "source": [
    "k1 = generate_key_with_parity()\n",
    "\n",
    "des1 = DES.new(k1, DES.MODE_ECB)\n",
    "\n",
    "ciphertext1 = des1.encrypt(message1)\n",
    "ciphertext2 = des2.encrypt(message2)"
   ]
  },
  {
   "cell_type": "code",
   "execution_count": 43,
   "id": "fb2ab3f6",
   "metadata": {},
   "outputs": [
    {
     "name": "stdout",
     "output_type": "stream",
     "text": [
      "Message 1: ['0b11001111', '0b10100101', '0b101111', '0b1001', '0b1010000', '0b1001111', '0b11111011', '0b1001001']\n",
      "Message 2: ['0b11001111', '0b10100101', '0b1101111', '0b1001', '0b1010000', '0b1001111', '0b11111011', '0b1001001']\n",
      "ciphertext1 =  ['1100011', '10011111', '10010010', '100100', '11000011', '10011', '10110011', '11110']\n",
      "ciphertext2 =  ['111011', '11101110', '11111010', '1100000', '10010101', '111010', '1110100', '10010100']\n"
     ]
    }
   ],
   "source": [
    "print(\"Message 1:\", [bin(x) for x in message1])\n",
    "\n",
    "#print('\\n######################\\n')\n",
    "\n",
    "print(\"Message 2:\", [bin(x) for x in message2])\n",
    "\n",
    "#print('\\n######################\\n')\n",
    "\n",
    "print(\"ciphertext1 = \", [bin(x)[2:].zfill(2) for x in ciphertext1]) \n",
    "\n",
    "#print('\\n######################\\n')\n",
    "\n",
    "print(\"ciphertext2 = \", [bin(x)[2:].zfill(2) for x in ciphertext2]) "
   ]
  },
  {
   "cell_type": "code",
   "execution_count": 50,
   "id": "8c359083",
   "metadata": {},
   "outputs": [
    {
     "name": "stdout",
     "output_type": "stream",
     "text": [
      "c1 xor c2 =  ['11010001', '00110111', '01011111', '00001000', '00100100', '01110101', '01100101', '00000110']\n",
      "c1 xor c2 =  ['01001011', '00001110', '00000100', '10100010', '01110100', '01111011', '10010001', '10000110']\n",
      "c1 xor c2 =  ['10011000', '10111000', '01000000', '00000000', '01011011', '01000010', '10010101', '00010001']\n",
      "c1 xor c2 =  ['11000001', '11111111', '10001001', '00101101', '10011101', '11110011', '11111110', '00000000']\n",
      "c1 xor c2 =  ['10001111', '01000011', '11100111', '11010010', '11011110', '00010101', '10001100', '00101011']\n",
      "c1 xor c2 =  ['11111110', '00110101', '11110101', '11000000', '00100101', '11111000', '11000111', '00100010']\n",
      "c1 xor c2 =  ['01100111', '10010001', '00010001', '11100011', '10000101', '01110110', '00010010', '00111011']\n",
      "c1 xor c2 =  ['00010011', '00111010', '01111001', '00010100', '01010000', '01100101', '10110011', '00101110']\n",
      "c1 xor c2 =  ['01011110', '11101111', '00011010', '11111110', '11110100', '10111001', '01111101', '11000111']\n",
      "c1 xor c2 =  ['11100010', '11110101', '01111000', '01001101', '00101100', '11011001', '11000111', '10001011']\n",
      "c1 xor c2 =  ['00100101', '11110110', '11011011', '00111001', '11101110', '00011111', '11000100', '11110010']\n",
      "c1 xor c2 =  ['11111100', '10000010', '10101001', '11111000', '01110110', '10011101', '10011111', '00110101']\n",
      "c1 xor c2 =  ['00010110', '10011011', '01011111', '10001010', '01100001', '10110110', '01010101', '10001010']\n",
      "c1 xor c2 =  ['00101010', '11000100', '01110111', '10110011', '00001111', '10101100', '01110100', '00110001']\n",
      "c1 xor c2 =  ['00101001', '10110100', '00101001', '10000110', '10011000', '10101011', '10111010', '10111001']\n",
      "c1 xor c2 =  ['10110011', '00010100', '11011001', '10010101', '10100011', '00000010', '01010010', '10011101']\n",
      "c1 xor c2 =  ['11110110', '00001011', '11011110', '10100111', '11001111', '11001010', '00000101', '00100110']\n",
      "c1 xor c2 =  ['10000100', '01010000', '00111110', '00011000', '01010010', '11001100', '11010100', '01010100']\n",
      "c1 xor c2 =  ['00110111', '00010100', '10011110', '01010110', '10110101', '00001111', '11001101', '01011100']\n",
      "c1 xor c2 =  ['00000101', '11001110', '11101110', '10010000', '01101100', '11111000', '11110001', '10000000']\n"
     ]
    }
   ],
   "source": [
    "def xor_bytes(s1, s2):\n",
    "    if len(s1) != len(s2):\n",
    "        exit(\"xor_bytes error: len(s1) != len(s2)!\")\n",
    "    return bytes([a ^ b for (a, b) in zip(s1, s2)])\n",
    "\n",
    "#différentiel dans le modèle CPA (code du prof)\n",
    "\n",
    "k = pad(b'password')\n",
    "\n",
    "des = DES.new(k, DES.MODE_ECB)\n",
    "\n",
    "for i in range(20):\n",
    "    plaintext1 = generate_key_with_parity()\n",
    "    plaintext2 = xor_bytes(plaintext1, b'\\x00\\x00\\x00\\x00\\x00\\x00\\x00\\x01')\n",
    "    \n",
    "    ciphertext1 = des.encrypt(plaintext1)\n",
    "    ciphertext2 = des.encrypt(plaintext2)\n",
    "    \n",
    "    \n",
    "    print(\"c1 xor c2 = \", [bin(x)[2:].zfill(8) for x in xor_bytes(ciphertext1, ciphertext2)])"
   ]
  },
  {
   "cell_type": "code",
   "execution_count": 52,
   "id": "3ebafa6d",
   "metadata": {},
   "outputs": [
    {
     "name": "stdout",
     "output_type": "stream",
     "text": [
      "[8, 16, 24, 56, 52, 44, 36, 0, 7, 15, 23, 55, 51, 43, 35, 0, 6, 14, 22, 54, 50, 42, 34, 0, 5, 13, 21, 53, 49, 41, 33, 0, 4, 12, 20, 28, 48, 40, 32, 0, 3, 11, 19, 27, 47, 39, 31, 0, 2, 10, 18, 26, 46, 38, 30, 0, 1, 9, 17, 25, 45, 37, 29, 0]\n"
     ]
    }
   ],
   "source": [
    "PC1 = [57, 49, 41, 33, 25, 17, 9,\n",
    "       1, 58, 50, 42, 34, 26, 18,\n",
    "       10, 2, 59, 51, 43, 35, 27,\n",
    "       19, 11, 3, 60, 52, 44, 36,\n",
    "       63, 55, 47, 39, 31, 23, 15,\n",
    "       7, 62, 54, 46, 38, 30, 22,\n",
    "       14, 6, 61, 53, 45, 37, 29,\n",
    "       21, 13, 5, 28, 20, 12, 4]\n",
    "\n",
    "def inv_Key(PC1):\n",
    "    PC1_inv = [0] * 64  \n",
    "\n",
    "    for i in range(56):  \n",
    "        j = PC1[i] - 1  \n",
    "        PC1_inv[j] = i + 1  \n",
    "\n",
    "    return PC1_inv\n",
    "\n",
    "PC1_inv = inv_Key(PC1)\n",
    "print(PC1_inv)"
   ]
  },
  {
   "cell_type": "code",
   "execution_count": 56,
   "id": "8db32c6f",
   "metadata": {},
   "outputs": [],
   "source": [
    "def apply_perm(PC1, vect):\n",
    "    vect_inv = [0] * len(vect)  \n",
    "\n",
    "    for i in range(len(vect)):  \n",
    "        #j = PC1[i] - 1  \n",
    "        vect_inv[i] = vect[PC1[i] - 1]\n",
    "\n",
    "    return vect_inv"
   ]
  },
  {
   "cell_type": "code",
   "execution_count": 57,
   "id": "72c33c3c",
   "metadata": {},
   "outputs": [
    {
     "name": "stdout",
     "output_type": "stream",
     "text": [
      "[6, 1, 3]\n"
     ]
    }
   ],
   "source": [
    "vect = [1, 3, 6]\n",
    "PC1=[3, 1, 2]\n",
    "vect_inv = apply_perm(PC1, vect)\n",
    "print(vect_inv)"
   ]
  },
  {
   "cell_type": "code",
   "execution_count": 58,
   "id": "ace6e878",
   "metadata": {},
   "outputs": [
    {
     "name": "stdout",
     "output_type": "stream",
     "text": [
      "[1, 1, 1, 1, 1, 1, 1, 1, 1, 1, 1, 1, 1, 1, 1, 1, 1, 1, 1, 1, 1, 1, 1, 1, 1, 1, 1, 1, 1, 1, 1, 1, 1, 1, 1, 1, 1, 1, 1, 1, 1, 1, 1, 1, 1, 1, 1, 1, 1, 1, 1, 1, 1, 1, 1, 1, 1, 1, 1, 1, 1, 1, 1, 1]\n",
      "[0, 0, 0, 0, 0, 0, 0, 0, 0, 0, 0, 0, 0, 0, 0, 0, 0, 0, 0, 0, 0, 0, 0, 0, 0, 0, 0, 0, 0, 0, 0, 0, 0, 0, 0, 0, 0, 0, 0, 0, 0, 0, 0, 0, 0, 0, 0, 0, 0, 0, 0, 0, 0, 0, 0, 0, 0, 0, 0, 0, 0, 0, 0, 0]\n",
      "[1, 1, 1, 0, 0, 0, 0, 0, 1, 1, 1, 0, 0, 0, 0, 0, 1, 1, 1, 0, 0, 0, 0, 0, 1, 1, 1, 0, 0, 0, 0, 0, 1, 1, 1, 1, 0, 0, 0, 0, 1, 1, 1, 1, 0, 0, 0, 0, 1, 1, 1, 1, 0, 0, 0, 0, 1, 1, 1, 1, 0, 0, 0, 0]\n",
      "[0, 0, 0, 1, 1, 1, 1, 1, 0, 0, 0, 1, 1, 1, 1, 1, 0, 0, 0, 1, 1, 1, 1, 1, 0, 0, 0, 1, 1, 1, 1, 1, 0, 0, 0, 0, 1, 1, 1, 1, 0, 0, 0, 0, 1, 1, 1, 1, 0, 0, 0, 0, 1, 1, 1, 1, 0, 0, 0, 0, 1, 1, 1, 1]\n"
     ]
    }
   ],
   "source": [
    "PC1 = [57, 49, 41, 33, 25, 17, 9,\n",
    "1, 58, 50, 42, 34, 26, 18,\n",
    "10, 2, 59, 51, 43, 35, 27,\n",
    "19, 11, 3, 60, 52, 44, 36,\n",
    "63, 55, 47, 39, 31, 23, 15,\n",
    "7, 62, 54, 46, 38, 30, 22,\n",
    "14, 6, 61, 53, 45, 37, 29,\n",
    "21, 13, 5, 28, 20, 12, 4]\n",
    "\n",
    "\n",
    "PC1inv = [0]*64\n",
    "for i in range(56):\n",
    "    j = PC1[i] - 1\n",
    "    PC1inv[j] = i + 1\n",
    "# print(\"PC1inv = \", PC1inv)  \n",
    "\n",
    "def apply_perm(v, P):\n",
    "    length = len(P)\n",
    "    pv = [0]*length\n",
    "    for i in range(64):\n",
    "        j = PC1inv[i] - 1\n",
    "        pv[i] = v[j]\n",
    "    print(pv)\n",
    "    \n",
    "apply_perm([1]*28 + [1]*28, PC1inv)    \n",
    "apply_perm([0]*28 + [0]*28, PC1inv)    \n",
    "apply_perm([1]*28 + [0]*28, PC1inv)    \n",
    "apply_perm([0]*28 + [1]*28, PC1inv) "
   ]
  },
  {
   "cell_type": "code",
   "execution_count": 59,
   "id": "ccdd131f",
   "metadata": {},
   "outputs": [
    {
     "name": "stdout",
     "output_type": "stream",
     "text": [
      "[1, 1, 1, 1, 1, 1, 1, 0, 1, 1, 1, 1, 1, 1, 1, 0, 1, 1, 1, 1, 1, 1, 1, 0, 1, 1, 1, 1, 1, 1, 1, 0, 1, 1, 1, 1, 1, 1, 1, 0, 1, 1, 1, 1, 1, 1, 1, 0, 1, 1, 1, 1, 1, 1, 1, 0, 1, 1, 1, 1, 1, 1, 1, 0]\n",
      "[0, 0, 0, 0, 0, 0, 0, 0, 0, 0, 0, 0, 0, 0, 0, 0, 0, 0, 0, 0, 0, 0, 0, 0, 0, 0, 0, 0, 0, 0, 0, 0, 0, 0, 0, 0, 0, 0, 0, 0, 0, 0, 0, 0, 0, 0, 0, 0, 0, 0, 0, 0, 0, 0, 0, 0, 0, 0, 0, 0, 0, 0, 0, 0]\n",
      "[1, 1, 1, 0, 0, 0, 0, 0, 1, 1, 1, 0, 0, 0, 0, 0, 1, 1, 1, 0, 0, 0, 0, 0, 1, 1, 1, 0, 0, 0, 0, 0, 1, 1, 1, 1, 0, 0, 0, 0, 1, 1, 1, 1, 0, 0, 0, 0, 1, 1, 1, 1, 0, 0, 0, 0, 1, 1, 1, 1, 0, 0, 0, 0]\n",
      "[0, 0, 0, 1, 1, 1, 1, 0, 0, 0, 0, 1, 1, 1, 1, 0, 0, 0, 0, 1, 1, 1, 1, 0, 0, 0, 0, 1, 1, 1, 1, 0, 0, 0, 0, 0, 1, 1, 1, 0, 0, 0, 0, 0, 1, 1, 1, 0, 0, 0, 0, 0, 1, 1, 1, 0, 0, 0, 0, 0, 1, 1, 1, 0]\n"
     ]
    }
   ],
   "source": [
    "def apply_perm_inv(v, P):\n",
    "    pv = [0]*64 #max(P)\n",
    "    for i in range(len(v)):\n",
    "        c = v[i]\n",
    "        pv[P[i] -1] = c\n",
    "    print(pv)\n",
    "    \n",
    "apply_perm_inv([1]*28 + [1]*28, PC1)    \n",
    "apply_perm_inv([0]*28 + [0]*28, PC1)    \n",
    "apply_perm_inv([1]*28 + [0]*28, PC1)    \n",
    "apply_perm_inv([0]*28 + [1]*28, PC1)    \n",
    "    "
   ]
  },
  {
   "cell_type": "code",
   "execution_count": 67,
   "id": "edd222eb",
   "metadata": {},
   "outputs": [],
   "source": [
    "k1 = generate_key_with_parity()\n",
    "k2 = generate_key_with_parity()\n",
    "des1 = DES.new(k1, DES.MODE_ECB)\n",
    "des2 = DES.new(k2, DES.MODE_ECB)\n",
    "\n",
    "plaintext = pad(b'Hello world !!!')\n",
    "#plaintext2 = complementary(plaintext)\n",
    "ciphertext1 = des1.encrypt(plaintext)\n",
    "ciphertext2 = des2.encrypt(ciphertext1)\n",
    "\n",
    "decrypt1 = des2.decrypt(ciphertext2)\n",
    "decrypt2 = des1.decrypt(decrypt1)"
   ]
  },
  {
   "cell_type": "code",
   "execution_count": 68,
   "id": "d28172d1",
   "metadata": {},
   "outputs": [
    {
     "name": "stdout",
     "output_type": "stream",
     "text": [
      "b'Hello world !!! '\n",
      "plaintext =  ['0b1001000', '0b1100101', '0b1101100', '0b1101100', '0b1101111', '0b100000', '0b1110111', '0b1101111', '0b1110010', '0b1101100', '0b1100100', '0b100000', '0b100001', '0b100001', '0b100001', '0b100000']\n",
      "ciphertext1 =  ['0b110010', '0b11111000', '0b1110000', '0b100011', '0b11110000', '0b10001000', '0b101110', '0b10101', '0b10010011', '0b11101100', '0b1101101', '0b10001101', '0b11101001', '0b11000001', '0b110010', '0b1100011']\n",
      "ciphertext2 =  ['0b10000001', '0b1111010', '0b1110001', '0b1000101', '0b1010111', '0b10001010', '0b1010000', '0b11010110', '0b10000', '0b11110101', '0b10101110', '0b101101', '0b10000110', '0b11001', '0b10101111', '0b1100111']\n",
      "decrypt1 =  ['0b110010', '0b11111000', '0b1110000', '0b100011', '0b11110000', '0b10001000', '0b101110', '0b10101', '0b10010011', '0b11101100', '0b1101101', '0b10001101', '0b11101001', '0b11000001', '0b110010', '0b1100011']\n",
      "decrypt2 =  ['0b1001000', '0b1100101', '0b1101100', '0b1101100', '0b1101111', '0b100000', '0b1110111', '0b1101111', '0b1110010', '0b1101100', '0b1100100', '0b100000', '0b100001', '0b100001', '0b100001', '0b100000']\n"
     ]
    }
   ],
   "source": [
    "print(plaintext)\n",
    "\n",
    "print(\"plaintext = \", [bin(x) for x in plaintext]) \n",
    "print(\"ciphertext1 = \", [bin(x) for x in ciphertext1]) \n",
    "print(\"ciphertext2 = \", [bin(x) for x in ciphertext2])\n",
    "print(\"decrypt1 = \", [bin(x) for x in decrypt1]) \n",
    "print(\"decrypt2 = \", [bin(x) for x in decrypt2]) "
   ]
  },
  {
   "cell_type": "code",
   "execution_count": 71,
   "id": "deda0b81",
   "metadata": {},
   "outputs": [],
   "source": [
    "fdin = open('image.bmp', 'rb')\n",
    "entete = fdin.read(74)\n",
    "img = fdin.read()"
   ]
  },
  {
   "cell_type": "code",
   "execution_count": 72,
   "id": "662b53cb",
   "metadata": {},
   "outputs": [
    {
     "name": "stderr",
     "output_type": "stream",
     "text": [
      "IOPub data rate exceeded.\n",
      "The notebook server will temporarily stop sending output\n",
      "to the client in order to avoid crashing it.\n",
      "To change this limit, set the config variable\n",
      "`--NotebookApp.iopub_data_rate_limit`.\n",
      "\n",
      "Current values:\n",
      "NotebookApp.iopub_data_rate_limit=1000000.0 (bytes/sec)\n",
      "NotebookApp.rate_limit_window=3.0 (secs)\n",
      "\n"
     ]
    }
   ],
   "source": [
    "print(img)"
   ]
  },
  {
   "cell_type": "code",
   "execution_count": 73,
   "id": "fd6b1229",
   "metadata": {},
   "outputs": [
    {
     "ename": "ValueError",
     "evalue": "Incorrect AES key length (8 bytes)",
     "output_type": "error",
     "traceback": [
      "\u001b[0;31m---------------------------------------------------------------------------\u001b[0m",
      "\u001b[0;31mValueError\u001b[0m                                Traceback (most recent call last)",
      "Input \u001b[0;32mIn [73]\u001b[0m, in \u001b[0;36m<cell line: 3>\u001b[0;34m()\u001b[0m\n\u001b[1;32m      1\u001b[0m \u001b[38;5;66;03m#key = b'passwordpassword'\u001b[39;00m\n\u001b[1;32m      2\u001b[0m key \u001b[38;5;241m=\u001b[39m k1 \u001b[38;5;241m=\u001b[39m generate_key_with_parity()\n\u001b[0;32m----> 3\u001b[0m aes \u001b[38;5;241m=\u001b[39m \u001b[43mAES\u001b[49m\u001b[38;5;241;43m.\u001b[39;49m\u001b[43mnew\u001b[49m\u001b[43m(\u001b[49m\u001b[43mkey\u001b[49m\u001b[43m,\u001b[49m\u001b[43m \u001b[49m\u001b[43mAES\u001b[49m\u001b[38;5;241;43m.\u001b[39;49m\u001b[43mMODE_ECB\u001b[49m\u001b[43m)\u001b[49m\n",
      "File \u001b[0;32m~/opt/anaconda3/lib/python3.9/site-packages/Crypto/Cipher/AES.py:228\u001b[0m, in \u001b[0;36mnew\u001b[0;34m(key, mode, *args, **kwargs)\u001b[0m\n\u001b[1;32m    128\u001b[0m \u001b[38;5;124;03m\"\"\"Create a new AES cipher.\u001b[39;00m\n\u001b[1;32m    129\u001b[0m \n\u001b[1;32m    130\u001b[0m \u001b[38;5;124;03mArgs:\u001b[39;00m\n\u001b[0;32m   (...)\u001b[0m\n\u001b[1;32m    224\u001b[0m \u001b[38;5;124;03m    an AES object, of the applicable mode.\u001b[39;00m\n\u001b[1;32m    225\u001b[0m \u001b[38;5;124;03m\"\"\"\u001b[39;00m\n\u001b[1;32m    227\u001b[0m kwargs[\u001b[38;5;124m\"\u001b[39m\u001b[38;5;124madd_aes_modes\u001b[39m\u001b[38;5;124m\"\u001b[39m] \u001b[38;5;241m=\u001b[39m \u001b[38;5;28;01mTrue\u001b[39;00m\n\u001b[0;32m--> 228\u001b[0m \u001b[38;5;28;01mreturn\u001b[39;00m \u001b[43m_create_cipher\u001b[49m\u001b[43m(\u001b[49m\u001b[43msys\u001b[49m\u001b[38;5;241;43m.\u001b[39;49m\u001b[43mmodules\u001b[49m\u001b[43m[\u001b[49m\u001b[38;5;18;43m__name__\u001b[39;49m\u001b[43m]\u001b[49m\u001b[43m,\u001b[49m\u001b[43m \u001b[49m\u001b[43mkey\u001b[49m\u001b[43m,\u001b[49m\u001b[43m \u001b[49m\u001b[43mmode\u001b[49m\u001b[43m,\u001b[49m\u001b[43m \u001b[49m\u001b[38;5;241;43m*\u001b[39;49m\u001b[43margs\u001b[49m\u001b[43m,\u001b[49m\u001b[43m \u001b[49m\u001b[38;5;241;43m*\u001b[39;49m\u001b[38;5;241;43m*\u001b[39;49m\u001b[43mkwargs\u001b[49m\u001b[43m)\u001b[49m\n",
      "File \u001b[0;32m~/opt/anaconda3/lib/python3.9/site-packages/Crypto/Cipher/__init__.py:79\u001b[0m, in \u001b[0;36m_create_cipher\u001b[0;34m(factory, key, mode, *args, **kwargs)\u001b[0m\n\u001b[1;32m     76\u001b[0m     \u001b[38;5;28;01melif\u001b[39;00m mode \u001b[38;5;241m==\u001b[39m \u001b[38;5;241m1\u001b[39m:\n\u001b[1;32m     77\u001b[0m         \u001b[38;5;28;01mraise\u001b[39;00m \u001b[38;5;167;01mTypeError\u001b[39;00m(\u001b[38;5;124m\"\u001b[39m\u001b[38;5;124mIV is not meaningful for the ECB mode\u001b[39m\u001b[38;5;124m\"\u001b[39m)\n\u001b[0;32m---> 79\u001b[0m \u001b[38;5;28;01mreturn\u001b[39;00m \u001b[43mmodes\u001b[49m\u001b[43m[\u001b[49m\u001b[43mmode\u001b[49m\u001b[43m]\u001b[49m\u001b[43m(\u001b[49m\u001b[43mfactory\u001b[49m\u001b[43m,\u001b[49m\u001b[43m \u001b[49m\u001b[38;5;241;43m*\u001b[39;49m\u001b[38;5;241;43m*\u001b[39;49m\u001b[43mkwargs\u001b[49m\u001b[43m)\u001b[49m\n",
      "File \u001b[0;32m~/opt/anaconda3/lib/python3.9/site-packages/Crypto/Cipher/_mode_ecb.py:216\u001b[0m, in \u001b[0;36m_create_ecb_cipher\u001b[0;34m(factory, **kwargs)\u001b[0m\n\u001b[1;32m    205\u001b[0m \u001b[38;5;28;01mdef\u001b[39;00m \u001b[38;5;21m_create_ecb_cipher\u001b[39m(factory, \u001b[38;5;241m*\u001b[39m\u001b[38;5;241m*\u001b[39mkwargs):\n\u001b[1;32m    206\u001b[0m     \u001b[38;5;124;03m\"\"\"Instantiate a cipher object that performs ECB encryption/decryption.\u001b[39;00m\n\u001b[1;32m    207\u001b[0m \n\u001b[1;32m    208\u001b[0m \u001b[38;5;124;03m    :Parameters:\u001b[39;00m\n\u001b[0;32m   (...)\u001b[0m\n\u001b[1;32m    213\u001b[0m \u001b[38;5;124;03m    See the relevant documentation for details (at least ``key`` will need\u001b[39;00m\n\u001b[1;32m    214\u001b[0m \u001b[38;5;124;03m    to be present\"\"\"\u001b[39;00m\n\u001b[0;32m--> 216\u001b[0m     cipher_state \u001b[38;5;241m=\u001b[39m \u001b[43mfactory\u001b[49m\u001b[38;5;241;43m.\u001b[39;49m\u001b[43m_create_base_cipher\u001b[49m\u001b[43m(\u001b[49m\u001b[43mkwargs\u001b[49m\u001b[43m)\u001b[49m\n\u001b[1;32m    217\u001b[0m     cipher_state\u001b[38;5;241m.\u001b[39mblock_size \u001b[38;5;241m=\u001b[39m factory\u001b[38;5;241m.\u001b[39mblock_size\n\u001b[1;32m    218\u001b[0m     \u001b[38;5;28;01mif\u001b[39;00m kwargs:\n",
      "File \u001b[0;32m~/opt/anaconda3/lib/python3.9/site-packages/Crypto/Cipher/AES.py:90\u001b[0m, in \u001b[0;36m_create_base_cipher\u001b[0;34m(dict_parameters)\u001b[0m\n\u001b[1;32m     87\u001b[0m     \u001b[38;5;28;01mraise\u001b[39;00m \u001b[38;5;167;01mTypeError\u001b[39;00m(\u001b[38;5;124m\"\u001b[39m\u001b[38;5;124mMissing \u001b[39m\u001b[38;5;124m'\u001b[39m\u001b[38;5;124mkey\u001b[39m\u001b[38;5;124m'\u001b[39m\u001b[38;5;124m parameter\u001b[39m\u001b[38;5;124m\"\u001b[39m)\n\u001b[1;32m     89\u001b[0m \u001b[38;5;28;01mif\u001b[39;00m \u001b[38;5;28mlen\u001b[39m(key) \u001b[38;5;129;01mnot\u001b[39;00m \u001b[38;5;129;01min\u001b[39;00m key_size:\n\u001b[0;32m---> 90\u001b[0m     \u001b[38;5;28;01mraise\u001b[39;00m \u001b[38;5;167;01mValueError\u001b[39;00m(\u001b[38;5;124m\"\u001b[39m\u001b[38;5;124mIncorrect AES key length (\u001b[39m\u001b[38;5;132;01m%d\u001b[39;00m\u001b[38;5;124m bytes)\u001b[39m\u001b[38;5;124m\"\u001b[39m \u001b[38;5;241m%\u001b[39m \u001b[38;5;28mlen\u001b[39m(key))\n\u001b[1;32m     92\u001b[0m \u001b[38;5;28;01mif\u001b[39;00m use_aesni \u001b[38;5;129;01mand\u001b[39;00m _raw_aesni_lib:\n\u001b[1;32m     93\u001b[0m     start_operation \u001b[38;5;241m=\u001b[39m _raw_aesni_lib\u001b[38;5;241m.\u001b[39mAESNI_start_operation\n",
      "\u001b[0;31mValueError\u001b[0m: Incorrect AES key length (8 bytes)"
     ]
    }
   ],
   "source": [
    "#key = b'passwordpassword'\n",
    "key = k1 = generate_key_with_parity()\n",
    "aes = AES.new(key, AES.MODE_ECB)\n",
    "#plaintext = pad_aes(b'Hello world hellow world !!!')\n",
    "#ciphertext = aes.encrypt(plaintext)\n",
    "#print([hex(x) for x in ciphertext])\n",
    "#print(aes.decrypt(ciphertext))"
   ]
  },
  {
   "cell_type": "code",
   "execution_count": 76,
   "id": "fe236a03",
   "metadata": {},
   "outputs": [
    {
     "name": "stdout",
     "output_type": "stream",
     "text": [
      "Image chiffrée avec succès.\n",
      "Clé AES (hex): 812431e62499d1d7c1ed0b8453cd3774\n",
      "IV (hex): 00f7999a73e7efe5ff145daa14691ddd\n"
     ]
    }
   ],
   "source": [
    "from Crypto.Cipher import AES\n",
    "from Crypto.Util.Padding import pad, unpad\n",
    "from Crypto.Random import get_random_bytes\n",
    "import os\n",
    "\n",
    "\n",
    "def read_bmp(file_path):\n",
    "    with open(file_path, 'rb') as f:\n",
    "        header = f.read(54)  \n",
    "        data = f.read()      \n",
    "    return header, data\n",
    "\n",
    "def write_bmp(file_path, header, data):\n",
    "    with open(file_path, 'wb') as f:\n",
    "        f.write(header)  \n",
    "        f.write(data) \n",
    "        \n",
    "input_bmp_path = 'image.bmp'\n",
    "\n",
    "header, img_data = read_bmp(input_bmp_path)\n",
    "key = get_random_bytes(16)  \n",
    "   \n",
    "\n",
    "cipher = AES.new(key, AES.MODE_ECB)\n",
    "\n",
    "\n",
    "ciphertext = cipher.encrypt(pad(img_data, AES.block_size))\n",
    "\n",
    "output_bmp_path = 'encrypted_image.bmp'\n",
    "\n",
    "write_bmp(output_bmp_path, header, ciphertext)\n",
    "\n",
    "\n"
   ]
  },
  {
   "cell_type": "code",
   "execution_count": 77,
   "id": "104aecd9",
   "metadata": {},
   "outputs": [],
   "source": [
    "\n",
    "\n",
    "input_bmp_path = 'image.bmp'\n",
    "\n",
    "header, img_data = read_bmp(input_bmp_path)\n",
    "\n",
    "key = get_random_bytes(16)  \n",
    "iv = get_random_bytes(16)  \n",
    "\n",
    "cipher = AES.new(key, AES.MODE_CBC, iv)\n",
    "\n",
    "\n",
    "ciphertext = cipher.encrypt(pad(img_data, AES.block_size))\n",
    "\n",
    "output_bmp_path = 'encrypted_image_CBC.bmp'\n",
    "\n",
    "write_bmp(output_bmp_path, header, ciphertext)"
   ]
  },
  {
   "cell_type": "code",
   "execution_count": null,
   "id": "67c21be7",
   "metadata": {},
   "outputs": [],
   "source": []
  }
 ],
 "metadata": {
  "kernelspec": {
   "display_name": "Python 3 (ipykernel)",
   "language": "python",
   "name": "python3"
  },
  "language_info": {
   "codemirror_mode": {
    "name": "ipython",
    "version": 3
   },
   "file_extension": ".py",
   "mimetype": "text/x-python",
   "name": "python",
   "nbconvert_exporter": "python",
   "pygments_lexer": "ipython3",
   "version": "3.9.12"
  }
 },
 "nbformat": 4,
 "nbformat_minor": 5
}
