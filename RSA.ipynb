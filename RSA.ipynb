{
 "cells": [
  {
   "cell_type": "code",
   "execution_count": 10,
   "id": "8d698aa0",
   "metadata": {},
   "outputs": [],
   "source": [
    "import random\n",
    "from sympy import primerange, isprime\n",
    "\n",
    "def random_prime_between(a, b):\n",
    "    primes = list(primerange(a, b))\n",
    "    \n",
    "    if not primes:\n",
    "        raise ValueError(f\"There are no prime numbers in the range {a} to {b}\")\n",
    "    return random.choice(primes)\n",
    "def gen_prim(N):\n",
    "    p = randrange(N)\n",
    "    while isprime(p) == False:\n",
    "        p = randrange(N)\n",
    "    return p"
   ]
  },
  {
   "cell_type": "code",
   "execution_count": 11,
   "id": "8cc25910",
   "metadata": {},
   "outputs": [],
   "source": [
    "def fast_exp(alpha, e, n):\n",
    "    a_2i_tmp = alpha\n",
    "    res = 1\n",
    "    while (e != 0):\n",
    "        if ( e&1):\n",
    "            res = (res * a_2i_tmp) % n\n",
    "        e >>= 1 \n",
    "        a_2i_tmp = (a_2i_tmp * a_2i_tmp)%n\n",
    "    return(res)\n"
   ]
  },
  {
   "cell_type": "code",
   "execution_count": 12,
   "id": "84130c11",
   "metadata": {},
   "outputs": [],
   "source": [
    "import sympy\n",
    "\n",
    "def extended_euclid(x, n):\n",
    "    a, b, gcd = sympy.gcdex(x, n)\n",
    "    if gcd == 1:\n",
    "        return a%n\n",
    "    else:\n",
    "        return -1\n",
    "\n"
   ]
  },
  {
   "cell_type": "code",
   "execution_count": 13,
   "id": "40394aa0",
   "metadata": {},
   "outputs": [],
   "source": [
    "from math import sqrt\n",
    "from random import randrange\n",
    "def Gen_key(N):\n",
    "    p = gen_prim(sqrt(N))\n",
    "    q = gen_prim(sqrt(N))\n",
    "    n = p*q\n",
    "    phi = (p-1)*(q-1)\n",
    "    e = randrange(4, phi)\n",
    "    d = extended_euclid(e, phi)\n",
    "    \n",
    "    while d == -1:\n",
    "        e = randrange(4, phi)\n",
    "        d = extended_euclid(e, phi)\n",
    "    return d, e, n\n",
    "\n",
    "def RSA_enc(m, Kpub, n):\n",
    "    c = fast_exp(m, Kpub, n)\n",
    "    return c\n",
    "\n",
    "def RSA_enc(c, Kprv, n):\n",
    "    m = fast_exp(c, Kprv, n)\n",
    "    return m\n",
    "\n",
    "\n"
   ]
  },
  {
   "cell_type": "code",
   "execution_count": null,
   "id": "bcec325c",
   "metadata": {},
   "outputs": [],
   "source": []
  }
 ],
 "metadata": {
  "kernelspec": {
   "display_name": "Python 3 (ipykernel)",
   "language": "python",
   "name": "python3"
  },
  "language_info": {
   "codemirror_mode": {
    "name": "ipython",
    "version": 3
   },
   "file_extension": ".py",
   "mimetype": "text/x-python",
   "name": "python",
   "nbconvert_exporter": "python",
   "pygments_lexer": "ipython3",
   "version": "3.9.12"
  }
 },
 "nbformat": 4,
 "nbformat_minor": 5
}
