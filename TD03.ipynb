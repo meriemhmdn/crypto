{
 "cells": [
  {
   "cell_type": "markdown",
   "id": "8e24a20c",
   "metadata": {},
   "source": [
    "## EXO 01 LSFR"
   ]
  },
  {
   "cell_type": "code",
   "execution_count": 9,
   "id": "6777d44c",
   "metadata": {},
   "outputs": [],
   "source": [
    "reg = 0b01011010\n",
    "retro = 0b10110011"
   ]
  },
  {
   "cell_type": "code",
   "execution_count": 10,
   "id": "ab522642",
   "metadata": {},
   "outputs": [],
   "source": [
    "    # 1. recuperer le dernier bit pour la sortie\n",
    "    # 2. Calculer le bit de retroaction\n",
    "        # A. mask entre regitre et poly de retro\n",
    "        # B. XOR de tous les bits de resultat de mask\n",
    "    # 3. Shift du registre \n",
    "    # 4. On ecrit le bit de retroaction\n",
    "    # 5. Retorner la sortie"
   ]
  },
  {
   "cell_type": "code",
   "execution_count": 11,
   "id": "185403ab",
   "metadata": {},
   "outputs": [],
   "source": [
    "\n",
    "def LSFR(n, retro):\n",
    "    global reg\n",
    "    sortie = reg & 0b1\n",
    "    mask = reg & retro\n",
    "    xor_resultat = 0\n",
    "    for i in range(n):\n",
    "        xor_resultat ^= (mask >> i) & 1\n",
    "    reg = (reg >> 1) | (xor_resultat << n-1)\n",
    "    \n",
    "    return sortie\n",
    "\n"
   ]
  },
  {
   "cell_type": "code",
   "execution_count": 12,
   "id": "be346d6e",
   "metadata": {},
   "outputs": [
    {
     "name": "stdout",
     "output_type": "stream",
     "text": [
      "[0, 1, 0, 1, 1, 0, 1, 0, 0, 0, 0, 0, 1, 0, 1, 0]\n"
     ]
    }
   ],
   "source": [
    "reg = 0b01011010\n",
    "retro = 0b10110011\n",
    "t = []\n",
    "for i in range(16):\n",
    "    s = LSFR(8, retro)\n",
    "    t.append(s)\n",
    "print(t)"
   ]
  },
  {
   "cell_type": "code",
   "execution_count": 20,
   "id": "9e517047",
   "metadata": {},
   "outputs": [],
   "source": [
    "def LSFR_string(m, n, retro):\n",
    "    cipher_string = 0\n",
    "    for i in range(m):\n",
    "        b_sortie = LSFR(n, retro)\n",
    "        cipher_string = (cipher_string << len(bin(b_sortie)[2:])) | b_sortie\n",
    "    return cipher_string\n",
    "        "
   ]
  },
  {
   "cell_type": "code",
   "execution_count": 26,
   "id": "2b9bb438",
   "metadata": {},
   "outputs": [],
   "source": [
    "reg = 0b01011010\n",
    "retro = 0b10110011\n",
    "m = 10000\n",
    "n = 8\n",
    "t = LSFR_string(m, n, retro)\n",
    "t_bin = bin(t)\n",
    "with open(\"resultat.txt\", \"w\") as f:\n",
    "    f.write(t_bin)"
   ]
  },
  {
   "cell_type": "code",
   "execution_count": 27,
   "id": "9257ecaa",
   "metadata": {},
   "outputs": [
    {
     "name": "stdout",
     "output_type": "stream",
     "text": [
      "0b101101000001010\n"
     ]
    }
   ],
   "source": [
    "reg = 0b01011010\n",
    "retro = 0b10110011\n",
    "m = 16\n",
    "n = 8\n",
    "t = LSFR_string(m, n, retro)\n",
    "t_bin = bin(t).zfill(m+1)\n",
    "print(t_bin)\n"
   ]
  },
  {
   "cell_type": "code",
   "execution_count": 39,
   "id": "999a740f",
   "metadata": {},
   "outputs": [],
   "source": [
    "def encrypt_LFSR(n, m, retro, message):\n",
    "    t = 0 \n",
    "    t = LSFR_string(m, n, retro)\n",
    "    t_bin = bin(t)\n",
    "    resultat_xor = t_bin ^ message\n",
    "    return bin(resultat_xor)"
   ]
  },
  {
   "cell_type": "code",
   "execution_count": 40,
   "id": "1a21bd06",
   "metadata": {},
   "outputs": [
    {
     "name": "stdout",
     "output_type": "stream",
     "text": [
      "0b11110100\n"
     ]
    }
   ],
   "source": [
    "print(bin(244))"
   ]
  },
  {
   "cell_type": "code",
   "execution_count": 41,
   "id": "4cffbb14",
   "metadata": {},
   "outputs": [
    {
     "ename": "TypeError",
     "evalue": "unsupported operand type(s) for ^: 'str' and 'str'",
     "output_type": "error",
     "traceback": [
      "\u001b[0;31m---------------------------------------------------------------------------\u001b[0m",
      "\u001b[0;31mTypeError\u001b[0m                                 Traceback (most recent call last)",
      "Input \u001b[0;32mIn [41]\u001b[0m, in \u001b[0;36m<cell line: 1>\u001b[0;34m()\u001b[0m\n\u001b[0;32m----> 1\u001b[0m \u001b[43mencrypt_LFSR\u001b[49m\u001b[43m(\u001b[49m\u001b[38;5;241;43m8\u001b[39;49m\u001b[43m,\u001b[49m\u001b[43m \u001b[49m\u001b[38;5;241;43m8\u001b[39;49m\u001b[43m,\u001b[49m\u001b[43m \u001b[49m\u001b[43mretro\u001b[49m\u001b[43m,\u001b[49m\u001b[43m \u001b[49m\u001b[38;5;28;43mbin\u001b[39;49m\u001b[43m(\u001b[49m\u001b[38;5;241;43m244\u001b[39;49m\u001b[43m)\u001b[49m\u001b[43m)\u001b[49m\n",
      "Input \u001b[0;32mIn [39]\u001b[0m, in \u001b[0;36mencrypt_LFSR\u001b[0;34m(n, m, retro, message)\u001b[0m\n\u001b[1;32m      3\u001b[0m t \u001b[38;5;241m=\u001b[39m LSFR_string(m, n, retro)\n\u001b[1;32m      4\u001b[0m t_bin \u001b[38;5;241m=\u001b[39m \u001b[38;5;28mbin\u001b[39m(t)\n\u001b[0;32m----> 5\u001b[0m resultat_xor \u001b[38;5;241m=\u001b[39m \u001b[43mt_bin\u001b[49m\u001b[43m \u001b[49m\u001b[38;5;241;43m^\u001b[39;49m\u001b[43m \u001b[49m\u001b[43mmessage\u001b[49m\n\u001b[1;32m      6\u001b[0m \u001b[38;5;28;01mreturn\u001b[39;00m \u001b[38;5;28mbin\u001b[39m(resultat_xor)\n",
      "\u001b[0;31mTypeError\u001b[0m: unsupported operand type(s) for ^: 'str' and 'str'"
     ]
    }
   ],
   "source": [
    "encrypt_LFSR(8, 8, retro, bin(244))"
   ]
  },
  {
   "cell_type": "code",
   "execution_count": 37,
   "id": "90efb5a0",
   "metadata": {},
   "outputs": [
    {
     "name": "stdout",
     "output_type": "stream",
     "text": [
      "0b110\n"
     ]
    }
   ],
   "source": [
    "a = 0b1010\n",
    "b = 0b1100\n",
    "\n",
    "resultat_xor = a ^ b\n",
    "\n",
    "print(bin(resultat_xor))"
   ]
  },
  {
   "cell_type": "code",
   "execution_count": 47,
   "id": "465fb884",
   "metadata": {},
   "outputs": [
    {
     "name": "stdout",
     "output_type": "stream",
     "text": [
      "0b10101110\n"
     ]
    }
   ],
   "source": [
    "def encrypt_LFSR(n, m, retro, message):\n",
    "    t = LSFR_string(m, n, retro)\n",
    "    t_bin = bin(t)  # Conversion de t en une chaîne binaire\n",
    "    message_int = int(message, 2)  # Conversion du message binaire en un entier\n",
    "    resultat_xor = int(t_bin, 2) ^ message_int  # Conversion de t_bin en un entier et opération XOR\n",
    "    return bin(resultat_xor)\n",
    "\n",
    "reg = 0b01011010\n",
    "retro = 0b10110011\n",
    "encrypted_message = encrypt_LFSR(8, 8, retro, bin(244))\n",
    "print(encrypted_message)"
   ]
  },
  {
   "cell_type": "code",
   "execution_count": 48,
   "id": "9211debd",
   "metadata": {},
   "outputs": [
    {
     "name": "stdout",
     "output_type": "stream",
     "text": [
      "0b10101110\n",
      "0b11110100\n"
     ]
    }
   ],
   "source": [
    "reg = 0b01011010\n",
    "retro = 0b10110011\n",
    "message = bin(244)\n",
    "chiffre = encrypted_message = encrypt_LFSR(8, 8, retro, message)\n",
    "reg = 0b01011010\n",
    "retro = 0b10110011\n",
    "encrypted_message = encrypt_LFSR(8, 8, retro, chiffre)\n",
    "print(chiffre)\n",
    "print(encrypted_message)"
   ]
  },
  {
   "cell_type": "code",
   "execution_count": 49,
   "id": "f710940e",
   "metadata": {},
   "outputs": [
    {
     "data": {
      "text/plain": [
       "'0b11110100'"
      ]
     },
     "execution_count": 49,
     "metadata": {},
     "output_type": "execute_result"
    }
   ],
   "source": [
    "bin(244)"
   ]
  },
  {
   "cell_type": "code",
   "execution_count": null,
   "id": "1986415e",
   "metadata": {},
   "outputs": [],
   "source": []
  }
 ],
 "metadata": {
  "kernelspec": {
   "display_name": "Python 3 (ipykernel)",
   "language": "python",
   "name": "python3"
  },
  "language_info": {
   "codemirror_mode": {
    "name": "ipython",
    "version": 3
   },
   "file_extension": ".py",
   "mimetype": "text/x-python",
   "name": "python",
   "nbconvert_exporter": "python",
   "pygments_lexer": "ipython3",
   "version": "3.9.12"
  }
 },
 "nbformat": 4,
 "nbformat_minor": 5
}
